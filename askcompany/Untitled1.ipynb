{
 "cells": [
  {
   "cell_type": "code",
   "execution_count": 1,
   "id": "a88bd644",
   "metadata": {},
   "outputs": [],
   "source": [
    "import os\n",
    "os.environ['DJANGO_SETTINGS_MODULE'] = 'askcompany.settings'\n",
    "os.environ[\"DJANGO_ALLOW_ASYNC_UNSAFE\"] = \"true\"\n",
    "\n",
    "import django\n",
    "django.setup() "
   ]
  },
  {
   "cell_type": "code",
   "execution_count": null,
   "id": "cb81c7ec",
   "metadata": {},
   "outputs": [],
   "source": []
  },
  {
   "cell_type": "code",
   "execution_count": 7,
   "id": "35c8bcd4",
   "metadata": {},
   "outputs": [],
   "source": [
    "from accounts.models import Profile"
   ]
  },
  {
   "cell_type": "code",
   "execution_count": 8,
   "id": "22b8d425",
   "metadata": {},
   "outputs": [
    {
     "data": {
      "text/plain": [
       "<User: olio>"
      ]
     },
     "execution_count": 8,
     "metadata": {},
     "output_type": "execute_result"
    }
   ],
   "source": [
    "profile = Profile.objects.first()\n",
    "profile.user"
   ]
  },
  {
   "cell_type": "code",
   "execution_count": 14,
   "id": "aca5b97d",
   "metadata": {},
   "outputs": [
    {
     "data": {
      "text/plain": [
       "(1, {'accounts.Profile': 1})"
      ]
     },
     "execution_count": 14,
     "metadata": {},
     "output_type": "execute_result"
    }
   ],
   "source": [
    "profile.delete()"
   ]
  },
  {
   "cell_type": "code",
   "execution_count": 20,
   "id": "f9362f25",
   "metadata": {},
   "outputs": [],
   "source": [
    "#from django.contrib.auth.models import User\n",
    "from django.contrib.auth import get_user_model #User가져오는건 무조건 이렇게 사용하세요 \n",
    "\n",
    "User = get_user_model()\n",
    "\n",
    "user = User.objects.first()\n"
   ]
  },
  {
   "cell_type": "code",
   "execution_count": 21,
   "id": "92d32614",
   "metadata": {},
   "outputs": [
    {
     "data": {
      "text/plain": [
       "<Profile: Profile object (2)>"
      ]
     },
     "execution_count": 21,
     "metadata": {},
     "output_type": "execute_result"
    }
   ],
   "source": [
    "user.profile"
   ]
  }
 ],
 "metadata": {
  "kernelspec": {
   "display_name": "Python 3 (ipykernel)",
   "language": "python",
   "name": "python3"
  },
  "language_info": {
   "codemirror_mode": {
    "name": "ipython",
    "version": 3
   },
   "file_extension": ".py",
   "mimetype": "text/x-python",
   "name": "python",
   "nbconvert_exporter": "python",
   "pygments_lexer": "ipython3",
   "version": "3.7.11"
  }
 },
 "nbformat": 4,
 "nbformat_minor": 5
}
